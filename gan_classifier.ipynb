{
 "cells": [
  {
   "cell_type": "code",
   "execution_count": 6,
   "metadata": {},
   "outputs": [],
   "source": [
    "import torch,torchvision\n",
    "import numpy as np\n",
    "from PIL import Image, ImageDraw\n",
    "import matplotlib.pyplot as plt\n",
    "from sklearn.preprocessing import LabelEncoder, OneHotEncoder\n",
    "\n",
    "\n"
   ]
  },
  {
   "cell_type": "code",
   "execution_count": 5,
   "metadata": {},
   "outputs": [],
   "source": [
    "def toy_data(sample = 10000):\n",
    "    colors = ['red','green','blue','yellow','purple','orange','black','white']\n",
    "    shapes = ['circle','square','triangle']\n",
    "    data = []\n",
    "    labels = []\n",
    "\n",
    "    for _ in range(sample):\n",
    "        color = np.random.choice(colors)\n",
    "        shape = np.random.choice(shapes)\n",
    "        label = f\"{color} {shape}\"\n",
    "\n",
    "        #creating the image\n",
    "        img = Image.new('RGB',(64,64),'white')\n",
    "        draw = ImageDraw.Draw(img)\n",
    "        if shape == 'circle':\n",
    "            draw.ellipse((10,10,54,54),fill = color)\n",
    "        elif shape == 'square':\n",
    "            draw.rectangle((10,10,54,54),fill = color)\n",
    "        elif shape == 'triangle':\n",
    "            draw.polygon([(32,16),(16,48),(48,48)], fill = color)\n",
    "\n",
    "        data.append(np.array(img))\n",
    "        labels.append(label)\n",
    "    return np.array(data),labels\n",
    "\n",
    "#generating the data\n",
    "images,lables = toy_data()\n",
    "\n",
    "\n",
    "\n",
    "\n",
    "        "
   ]
  },
  {
   "cell_type": "code",
   "execution_count": 8,
   "metadata": {},
   "outputs": [],
   "source": [
    "#text-embedding\n",
    "def text_embedding(labels):\n",
    "    label_encoder = LabelEncoder()\n",
    "    int_encoded = label_encoder.fit_transform(labels)\n",
    "    one_hot_encoder = OneHotEncoder(sparse_output = False)\n",
    "    int_encoded = int_encoded.reshape(len(int_encoded),1)\n",
    "    onehot_encoded = one_hot_encoder.fit_transform(int_encoded)\n",
    "    return onehot_encoded,label_encoder\n",
    "    \n",
    "text_embeddings,label_encoder = text_embedding(lables)\n"
   ]
  },
  {
   "cell_type": "code",
   "execution_count": null,
   "metadata": {},
   "outputs": [],
   "source": [
    "#BUILDING GAN\n",
    "from torch import nn as nn\n",
    "class Generator(nn.Module);\n",
    "    def __init__(self,noise_dim,text_dim,img_channels):\n",
    "        "
   ]
  }
 ],
 "metadata": {
  "kernelspec": {
   "display_name": "Python 3",
   "language": "python",
   "name": "python3"
  },
  "language_info": {
   "codemirror_mode": {
    "name": "ipython",
    "version": 3
   },
   "file_extension": ".py",
   "mimetype": "text/x-python",
   "name": "python",
   "nbconvert_exporter": "python",
   "pygments_lexer": "ipython3",
   "version": "3.12.6"
  }
 },
 "nbformat": 4,
 "nbformat_minor": 2
}
